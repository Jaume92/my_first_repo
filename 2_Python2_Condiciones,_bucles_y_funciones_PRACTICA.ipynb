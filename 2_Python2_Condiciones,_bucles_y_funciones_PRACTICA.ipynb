{
  "cells": [
    {
      "cell_type": "markdown",
      "metadata": {
        "id": "view-in-github",
        "colab_type": "text"
      },
      "source": [
        "<a href=\"https://colab.research.google.com/github/Jaume92/my_first_repo/blob/master/2_Python2_Condiciones%2C_bucles_y_funciones_PRACTICA.ipynb\" target=\"_parent\"><img src=\"https://colab.research.google.com/assets/colab-badge.svg\" alt=\"Open In Colab\"/></a>"
      ]
    },
    {
      "cell_type": "markdown",
      "metadata": {
        "id": "3jaJJkm7pLYG"
      },
      "source": [
        "# Python 2: Condiciones, bucles y funciones\n",
        "\n",
        "**EJERCICIOS:**\n",
        "\n",
        "En todos los ejercicios se deberá imprimir el resultado obtenido, para que sea más fácil evaluar si es correcto."
      ]
    },
    {
      "cell_type": "markdown",
      "metadata": {
        "id": "-TWtWA7JpMdC"
      },
      "source": [
        "1. Imprime los números del 1 al 10 usando un bucle while, luego haz lo mismo con un bucle for"
      ]
    },
    {
      "cell_type": "code",
      "execution_count": null,
      "metadata": {
        "colab": {
          "base_uri": "https://localhost:8080/"
        },
        "id": "AecLz85QpvGX",
        "outputId": "02886f69-7cf7-4289-94bf-f39e6e799db9"
      },
      "outputs": [
        {
          "name": "stdout",
          "output_type": "stream",
          "text": [
            "1\n",
            "2\n",
            "3\n",
            "4\n",
            "5\n",
            "6\n",
            "7\n",
            "8\n",
            "9\n",
            "10\n"
          ]
        }
      ],
      "source": [
        "# Usando un bucle while para imprimir los números del 1 al 10\n",
        "numero = 1\n",
        "while numero <= 10:\n",
        "    print(numero)\n",
        "    numero += 1\n"
      ]
    },
    {
      "cell_type": "markdown",
      "metadata": {
        "id": "KPJKm7ehpMhy"
      },
      "source": [
        "2. Calcula la suma de todos los números desde el 1 hasta un número dado incluido(pide un número mediante la función input y haz el calculo en base a éste) mediante un bucle\n",
        "**Output deseado:** Si proporcionamos el número 12, el output debería ser 78"
      ]
    },
    {
      "cell_type": "code",
      "execution_count": null,
      "metadata": {
        "colab": {
          "base_uri": "https://localhost:8080/"
        },
        "id": "7gaz7PoOpwYp",
        "outputId": "2699661c-250e-4ca9-b8e9-e19afdff9bfa"
      },
      "outputs": [
        {
          "name": "stdout",
          "output_type": "stream",
          "text": [
            "Por favor, introduce un número: 10\n",
            "La suma de todos los números desde 1 hasta 10 es 56\n"
          ]
        }
      ],
      "source": [
        "\n",
        "numero = int(input(\"Por favor, introduce un número: \"))\n",
        "suma = 1\n",
        "for i in range(1, numero + 1):\n",
        "    suma += i\n",
        "print(\"La suma de todos los números desde 1 hasta\", numero, \"es\", suma)\n"
      ]
    },
    {
      "cell_type": "markdown",
      "metadata": {
        "id": "didI1oIdqOay"
      },
      "source": [
        "3. Escribe un programa que añada en una lista todos los números que sean divisibles entre 5 y 7, o lo que es lo mismo todos los números múltiples de 5 y 7, y que se encuentren entre el 1900 y el 2700 (ambos incluidos).\n",
        "\n",
        "*Recordemos que hay un operador muy útil para saber si un número es múltiple/divisible respecto a otro!*\n",
        "\n",
        "**Output deseado:** [1925, 1960, 1995, 2030, 2065, 2100, 2135, 2170, 2205, 2240, 2275, 2310, 2345, 2380, 2415, 2450, 2485, 2520, 2555, 2590, 2625, 2660, 2695]\n"
      ]
    },
    {
      "cell_type": "code",
      "execution_count": null,
      "metadata": {
        "colab": {
          "base_uri": "https://localhost:8080/"
        },
        "id": "_RxDbKRspxZP",
        "outputId": "17999e8b-a3ef-4b1b-ddcc-32fa92b75602"
      },
      "outputs": [
        {
          "name": "stdout",
          "output_type": "stream",
          "text": [
            "[1900, 1905, 1910, 1915, 1920, 1925, 1930, 1935, 1940, 1945, 1950, 1955, 1960, 1965, 1970, 1975, 1980, 1985, 1990, 1995, 2000, 2005, 2010, 2015, 2020, 2025, 2030, 2035, 2040, 2045, 2050, 2055, 2060, 2065, 2070, 2075, 2080, 2085, 2090, 2095, 2100, 2105, 2110, 2115, 2120, 2125, 2130, 2135, 2140, 2145, 2150, 2155, 2160, 2165, 2170, 2175, 2180, 2185, 2190, 2195, 2200, 2205, 2210, 2215, 2220, 2225, 2230, 2235, 2240, 2245, 2250, 2255, 2260, 2265, 2270, 2275, 2280, 2285, 2290, 2295, 2300, 2305, 2310, 2315, 2320, 2325, 2330, 2335, 2340, 2345, 2350, 2355, 2360, 2365, 2370, 2375, 2380, 2385, 2390, 2395, 2400, 2405, 2410, 2415, 2420, 2425, 2430, 2435, 2440, 2445, 2450, 2455, 2460, 2465, 2470, 2475, 2480, 2485, 2490, 2495, 2500, 2505, 2510, 2515, 2520, 2525, 2530, 2535, 2540, 2545, 2550, 2555, 2560, 2565, 2570, 2575, 2580, 2585, 2590, 2595, 2600, 2605, 2610, 2615, 2620, 2625, 2630, 2635, 2640, 2645, 2650, 2655, 2660, 2665, 2670, 2675, 2680, 2685, 2690, 2695, 2700]\n"
          ]
        }
      ],
      "source": [
        "numlist =[]\n",
        "for i in range(1900, 2701):\n",
        "  if i % 5 == 0 :\n",
        "    numlist.append(i)\n",
        "\n",
        "print(numlist)"
      ]
    },
    {
      "cell_type": "markdown",
      "metadata": {
        "id": "2jM1mYd1s-Pp"
      },
      "source": [
        "4. Escribe un programa que calcule el equivalente de edad humana de la edad de un perro. Notemos que por los dos primeros años, un año de perro son como 10.5 años de humano. A partir de ese momento, cada año de perro son como 4 años de humano.\n",
        "\n",
        "**Output deseado:**\n",
        "\n",
        "Cuántos años tiene el perro? 10\n",
        "\n",
        "La edad del perro equivalente a la humana es de 53 años"
      ]
    },
    {
      "cell_type": "code",
      "execution_count": null,
      "metadata": {
        "colab": {
          "base_uri": "https://localhost:8080/"
        },
        "id": "SE1YYIsVpyW-",
        "outputId": "0ac34cc4-cbf8-4a58-e3c0-5b1459ccb1f9"
      },
      "outputs": [
        {
          "name": "stdout",
          "output_type": "stream",
          "text": [
            "Por favor, introduce la edad de tu perro :10\n",
            "La edad equivalente del perro en años humanos es : 53.0\n"
          ]
        }
      ],
      "source": [
        "edadperro=float(input(\"Por favor, introduce la edad de tu perro :\"))\n",
        "if edadperro <=2:\n",
        "  edadhumana = edadperro * 10,5\n",
        "else:\n",
        "  edadhumana = 21 +(edadperro -2) *4\n",
        "print(\"La edad equivalente del perro en años humanos es :\", edadhumana)\n"
      ]
    },
    {
      "cell_type": "markdown",
      "metadata": {
        "id": "JKEj8QFKuhAm"
      },
      "source": [
        "5. Escribe una función a la que le pases las medidas de los 3 lados de un triangulo y te diga si el triangulo es equilátero, escaleno o isósceles. Recordemos que un triangulo equilátero tiene los tres lados iguales, un triangulo escaleno tiene los tres lados distintos y un triangulo isósceles tiene dos lados iguales.\n",
        "\n",
        "**Output deseado:**\n",
        "\n",
        "Al pasarle a la función las medidas 4, 4 y 4. Obtenemos como output:\n",
        "\n",
        "El triangulo es\n",
        "equilátero"
      ]
    },
    {
      "cell_type": "code",
      "execution_count": null,
      "metadata": {
        "colab": {
          "base_uri": "https://localhost:8080/"
        },
        "id": "8UBY84ibpz9D",
        "outputId": "e9174ae4-d73d-4822-a53b-2caca61739a2"
      },
      "outputs": [
        {
          "name": "stdout",
          "output_type": "stream",
          "text": [
            "Introduce la medida del primer lado del triángulo: 24\n",
            "Introduce la medida del segundo lado del triángulo: 24\n",
            "Introduce la medida del tercer lado del triángulo: 24\n",
            "este triangulo es :  equilátero\n"
          ]
        }
      ],
      "source": [
        "a = float(input(\"Introduce la medida del primer lado del triángulo: \"))\n",
        "b = float(input(\"Introduce la medida del segundo lado del triángulo: \"))\n",
        "c = float(input(\"Introduce la medida del tercer lado del triángulo: \"))\n",
        "\n",
        "def tipo_triangulo(a, b, c):\n",
        "\n",
        "    if a + b > c and a + c > b and b + c > a:\n",
        "        if a == b == c:\n",
        "            return \" equilátero\"\n",
        "        elif a != b and a != c and b != c:\n",
        "            return \" escaleno\"\n",
        "        else:\n",
        "            return \" isósceles\"\n",
        "    else:\n",
        "        return \"No es un triángulo válido\"\n",
        "2\n",
        "tipo = tipo_triangulo(a, b, c)\n",
        "print(\"este triangulo es :\" , tipo)\n"
      ]
    },
    {
      "cell_type": "markdown",
      "metadata": {
        "id": "v3nrdel13bLb"
      },
      "source": [
        "6. Escribe una función a la que le pases una lista de números y te devuelva mediante el return el resultado de la suma de todos los números que formaban la lista. Luego ejecuta la función e imprime su output.\n",
        "\n",
        "**Output deseado:**\n",
        "\n",
        "Si pasamos la lista [8,12,4,0,2] a la función programada el output debería ser 26."
      ]
    },
    {
      "cell_type": "code",
      "execution_count": null,
      "metadata": {
        "colab": {
          "base_uri": "https://localhost:8080/"
        },
        "id": "5Iq7g0bFp1PP",
        "outputId": "ce438075-f025-46fc-9f8e-b0ee6a652936"
      },
      "outputs": [
        {
          "name": "stdout",
          "output_type": "stream",
          "text": [
            "El resultado de la suma de los números en la lista es: 26\n"
          ]
        }
      ],
      "source": [
        "numero = [8,12,4,0,2]\n",
        "def suma_lista(lista) :\n",
        "  suma=0\n",
        "  for numero in lista:\n",
        "    suma += numero\n",
        "  return suma\n",
        "\n",
        "\n",
        "resultado = suma_lista(numero)\n",
        "print(\"El resultado de la suma de los números en la lista es:\", resultado)"
      ]
    },
    {
      "cell_type": "markdown",
      "metadata": {
        "id": "BSg3FilR0NKo"
      },
      "source": [
        "**MINI PROYECTO: Juego de Piedra, Papel o Tijeras**\n",
        "\n",
        "Programa el juego de piedra, papel o tijeras:\n",
        "1. Haz que el programa te pida piedra, papel o tijeras\n",
        "2. Luego la maquina deberá hacer un random de piedra, papel o tijeras\n",
        "3. Compara el input con el resultado del random y imprime quien ha ganado el juego y porqué\n",
        "\n",
        "**Output deseado**\n",
        "\n",
        "Piedra, Papel o Tijeras? Tijeras\n",
        "\n",
        "Has ganado! Has cortado al Papel"
      ]
    },
    {
      "cell_type": "markdown",
      "metadata": {
        "id": "MVAlGqUN078h"
      },
      "source": [
        "*Recordemos el uso de la función random:*\n",
        "\n",
        "Primero deberemos importar la libreria que contiene la función random escribiendo:\n",
        "\n",
        "**import random**\n",
        "\n",
        "Luego, tenemos dos funciones que nos pueden ser útiles en este caso: **random.randint(start, stop)** y **random.choice(list)** La primera nos dará un número random entre el start y el stop (ambos incluidos) y la segunda nos dará un elemento random de la lista que le pasemos.\n"
      ]
    },
    {
      "cell_type": "markdown",
      "metadata": {
        "id": "zh205-cFV9f8"
      },
      "source": [
        "**NOTA:** Para hacerlo más interactivo podemos meter el código del juego en un bucle while. Al final del juego preguntamos al jugador si quiere volver a jugar, mientras la respuesta sea Si, repetimos, sino salimos del bucle."
      ]
    },
    {
      "cell_type": "code",
      "execution_count": null,
      "metadata": {
        "colab": {
          "background_save": true,
          "base_uri": "https://localhost:8080/"
        },
        "id": "HG-d8bUbp25v",
        "outputId": "b1d76165-6c9c-4ab1-ff6e-836cade6ed3f"
      },
      "outputs": [
        {
          "name": "stdout",
          "output_type": "stream",
          "text": [
            "Piedra, Papel, Tijera?\n",
            "Opción inválida. Puedes elegir entre Piedra, Papel o Tijera.\n",
            "Piedra, Papel, Tijera?\n",
            "La máquina eligió: Tijera\n",
            "¡Has ganado! Piedra vence a Tijera\n"
          ]
        }
      ],
      "source": [
        "import random\n",
        "\n",
        "def jugar_piedra_papel_tijeras():\n",
        "    opciones = [\"Piedra\", \"Papel\", \"Tijera\"]\n",
        "\n",
        "    while True:\n",
        "        print(\"Piedra, Papel, Tijera?\")\n",
        "        eleccion = input().capitalize()\n",
        "\n",
        "        if eleccion not in opciones:\n",
        "            print(\"Opción inválida. Puedes elegir entre Piedra, Papel o Tijera.\")\n",
        "            continue\n",
        "\n",
        "        eleccion_IA = random.choice(opciones)\n",
        "        print(\"La máquina eligió:\", eleccion_IA)\n",
        "\n",
        "        if eleccion == eleccion_IA:\n",
        "            print(\"Es un empate!\")\n",
        "        elif (eleccion == \"Piedra\" and eleccion_IA == \"Tijera\") or \\\n",
        "             (eleccion == \"Papel\" and eleccion_IA == \"Piedra\") or \\\n",
        "             (eleccion == \"Tijera\" and eleccion_IA == \"Papel\"):\n",
        "            print(\"¡Has ganado! {} vence a {}\".format(eleccion, eleccion_IA))\n",
        "        else:\n",
        "            print(\"¡Has perdido! {} es vencido por {}\".format(eleccion, eleccion_IA))\n",
        "\n",
        "        jugar_nuevamente = input(\"¿Quieres jugar de nuevo? (Si/No): \").capitalize()\n",
        "\n",
        "        if jugar_nuevamente != \"Si\":\n",
        "            break\n",
        "\n",
        "jugar_piedra_papel_tijeras()\n",
        "\n",
        "\n"
      ]
    }
  ],
  "metadata": {
    "colab": {
      "provenance": [],
      "include_colab_link": true
    },
    "kernelspec": {
      "display_name": "Python 3",
      "name": "python3"
    },
    "language_info": {
      "name": "python"
    }
  },
  "nbformat": 4,
  "nbformat_minor": 0
}